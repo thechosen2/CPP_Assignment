{
 "cells": [
  {
   "cell_type": "markdown",
   "metadata": {},
   "source": [
    "# **Basic Python**"
   ]
  },
  {
   "cell_type": "markdown",
   "metadata": {},
   "source": [
    "## 1.a \n",
    "Give a function F that takes a single argument n. This function should print a sequence of n strings as described in the examples below: <br>\n",
    "Ex: **n = 3**\n",
    "\n",
    "--A--<br>\n",
    "-BAB-<br>\n",
    "CBABC<br>\n",
    "\n",
    "**n = 4**\n",
    "\n",
    "---A---<br>\n",
    "--BAB--<br>\n",
    "-CBABC-<br>\n",
    "DCBABCD"
   ]
  },
  {
   "cell_type": "code",
   "execution_count": 33,
   "metadata": {},
   "outputs": [
    {
     "name": "stdout",
     "output_type": "stream",
     "text": [
      "-------A-------\n",
      "------BAB------\n",
      "-----CBABC-----\n",
      "----DCBABCD----\n",
      "---EDCBABCDE---\n",
      "--FEDCBABCDEF--\n",
      "-GFEDCBABCDEFG-\n",
      "HGFEDCBABCDEFGH\n",
      "---A---\n",
      "--BAB--\n",
      "-CBABC-\n",
      "DCBABCD\n"
     ]
    }
   ],
   "source": [
    "def F(n):\n",
    "    for i in range(2, n):\n",
    "        for j in range(i, n-1):\n",
    "            print(\"-\", end=\"\")\n",
    "        for j in range(i-1, 0, -1):\n",
    "            print(chr(64+j), end=\"\")\n",
    "        for j in range(2,i):\n",
    "            print(chr(64+j), end=\"\")\n",
    "        for j in range(i, n-1):\n",
    "            print(\"-\", end=\"\")\n",
    "        print()\n",
    "\n",
    "# Tests\n",
    "F(10)\n",
    "F(6)"
   ]
  },
  {
   "cell_type": "markdown",
   "metadata": {},
   "source": [
    "## 1.b\n",
    "Make a function F that takes only one argument, a dictionary(dict) d.\n",
    "The keys of d are integers and the values of d are a tuple of type (x (int), y (int)).\n",
    "You must print out the dict in the format \"-key-, -x-, -y-\" with each entry in a new line. Print it for each of the three sorted orders, by key values ascending, by x values descending, by y values ascending."
   ]
  },
  {
   "cell_type": "code",
   "execution_count": 34,
   "metadata": {},
   "outputs": [
    {
     "name": "stdout",
     "output_type": "stream",
     "text": [
      "1 1 2\n",
      "2 -1 4\n",
      "4 2 3\n",
      "5 -4 3\n",
      "----\n",
      "4 2 3\n",
      "1 1 2\n",
      "2 -1 4\n",
      "5 -4 3\n",
      "----\n",
      "1 1 2\n",
      "5 -4 3\n",
      "4 2 3\n",
      "2 -1 4\n",
      "----\n",
      "-8 4 2\n",
      "5 9 -10\n",
      "6 -3 4\n",
      "7 2 1\n",
      "----\n",
      "5 9 -10\n",
      "-8 4 2\n",
      "7 2 1\n",
      "6 -3 4\n",
      "----\n",
      "5 9 -10\n",
      "7 2 1\n",
      "-8 4 2\n",
      "6 -3 4\n",
      "----\n"
     ]
    }
   ],
   "source": [
    "def F(d : dict):\n",
    "    for key, (x,y) in sorted(d.items(), key= lambda x : x[0]):\n",
    "        print(f\"{key} {x} {y}\")\n",
    "    print(\"----\")\n",
    "    for key, (x,y) in sorted(d.items(), key= lambda x : x[1][0], reverse=True):\n",
    "        print(f\"{key} {x} {y}\")\n",
    "    print(\"----\")\n",
    "    for key, (x,y) in sorted(d.items(), key= lambda x : x[1][1]):\n",
    "        print(f\"{key} {x} {y}\")\n",
    "    print(\"----\")\n",
    "\n",
    "# Tests\n",
    "F({1 : (1, 2), 2 : (-1, 4), 5 : (-4, 3), 4 : (2, 3)})\n",
    "F({-8 : (4, 2), 6 : (-3, 4), 7 : (2, 1), 5 : (9, -10)})"
   ]
  },
  {
   "cell_type": "markdown",
   "metadata": {},
   "source": [
    "## 2 Working with Student Records\n",
    "\n",
    "Use the data in **student_records.csv** to complete the given tasks. Do not include any external libraries. Use a Python dictionary if required.\n",
    "\n",
    "### Reference\n",
    "- [Python Dictionaries](https://www.w3schools.com/python/python_dictionaries.asp)\n"
   ]
  },
  {
   "cell_type": "markdown",
   "metadata": {},
   "source": [
    "#### 2.a: open the student_records.csv file and print out the first 10 rows"
   ]
  },
  {
   "cell_type": "code",
   "execution_count": 1,
   "metadata": {},
   "outputs": [
    {
     "data": {
      "text/html": [
       "<div>\n",
       "<style scoped>\n",
       "    .dataframe tbody tr th:only-of-type {\n",
       "        vertical-align: middle;\n",
       "    }\n",
       "\n",
       "    .dataframe tbody tr th {\n",
       "        vertical-align: top;\n",
       "    }\n",
       "\n",
       "    .dataframe thead th {\n",
       "        text-align: right;\n",
       "    }\n",
       "</style>\n",
       "<table border=\"1\" class=\"dataframe\">\n",
       "  <thead>\n",
       "    <tr style=\"text-align: right;\">\n",
       "      <th></th>\n",
       "      <th>roll_number</th>\n",
       "      <th>department</th>\n",
       "      <th>credit</th>\n",
       "      <th>course_name</th>\n",
       "      <th>course_type</th>\n",
       "      <th>grade</th>\n",
       "    </tr>\n",
       "  </thead>\n",
       "  <tbody>\n",
       "    <tr>\n",
       "      <th>0</th>\n",
       "      <td>588946</td>\n",
       "      <td>MA</td>\n",
       "      <td>3</td>\n",
       "      <td>EC250</td>\n",
       "      <td>hasmed_elective</td>\n",
       "      <td>AB</td>\n",
       "    </tr>\n",
       "    <tr>\n",
       "      <th>1</th>\n",
       "      <td>145372</td>\n",
       "      <td>EP</td>\n",
       "      <td>4</td>\n",
       "      <td>EP407</td>\n",
       "      <td>hasmed_elective</td>\n",
       "      <td>CC</td>\n",
       "    </tr>\n",
       "    <tr>\n",
       "      <th>2</th>\n",
       "      <td>834515</td>\n",
       "      <td>MA</td>\n",
       "      <td>8</td>\n",
       "      <td>EP885</td>\n",
       "      <td>hasmed_elective</td>\n",
       "      <td>BB</td>\n",
       "    </tr>\n",
       "    <tr>\n",
       "      <th>3</th>\n",
       "      <td>344265</td>\n",
       "      <td>CSE</td>\n",
       "      <td>6</td>\n",
       "      <td>CSE699</td>\n",
       "      <td>honours</td>\n",
       "      <td>AB</td>\n",
       "    </tr>\n",
       "    <tr>\n",
       "      <th>4</th>\n",
       "      <td>358405</td>\n",
       "      <td>MA</td>\n",
       "      <td>3</td>\n",
       "      <td>EE460</td>\n",
       "      <td>minor</td>\n",
       "      <td>AP</td>\n",
       "    </tr>\n",
       "    <tr>\n",
       "      <th>5</th>\n",
       "      <td>781075</td>\n",
       "      <td>CE</td>\n",
       "      <td>8</td>\n",
       "      <td>CE540</td>\n",
       "      <td>honours</td>\n",
       "      <td>CC</td>\n",
       "    </tr>\n",
       "    <tr>\n",
       "      <th>6</th>\n",
       "      <td>180828</td>\n",
       "      <td>CSE</td>\n",
       "      <td>6</td>\n",
       "      <td>CE880</td>\n",
       "      <td>minor</td>\n",
       "      <td>AB</td>\n",
       "    </tr>\n",
       "    <tr>\n",
       "      <th>7</th>\n",
       "      <td>981238</td>\n",
       "      <td>MM</td>\n",
       "      <td>4</td>\n",
       "      <td>CSE226</td>\n",
       "      <td>minor</td>\n",
       "      <td>AB</td>\n",
       "    </tr>\n",
       "    <tr>\n",
       "      <th>8</th>\n",
       "      <td>836881</td>\n",
       "      <td>MM</td>\n",
       "      <td>8</td>\n",
       "      <td>MM530</td>\n",
       "      <td>core</td>\n",
       "      <td>AA</td>\n",
       "    </tr>\n",
       "    <tr>\n",
       "      <th>9</th>\n",
       "      <td>310604</td>\n",
       "      <td>EE</td>\n",
       "      <td>8</td>\n",
       "      <td>EE202</td>\n",
       "      <td>core</td>\n",
       "      <td>AB</td>\n",
       "    </tr>\n",
       "  </tbody>\n",
       "</table>\n",
       "</div>"
      ],
      "text/plain": [
       "   roll_number department  credit course_name      course_type grade\n",
       "0       588946         MA       3       EC250  hasmed_elective    AB\n",
       "1       145372         EP       4       EP407  hasmed_elective    CC\n",
       "2       834515         MA       8       EP885  hasmed_elective    BB\n",
       "3       344265        CSE       6      CSE699          honours    AB\n",
       "4       358405         MA       3       EE460            minor    AP\n",
       "5       781075         CE       8       CE540          honours    CC\n",
       "6       180828        CSE       6       CE880            minor    AB\n",
       "7       981238         MM       4      CSE226            minor    AB\n",
       "8       836881         MM       8       MM530             core    AA\n",
       "9       310604         EE       8       EE202             core    AB"
      ]
     },
     "execution_count": 1,
     "metadata": {},
     "output_type": "execute_result"
    }
   ],
   "source": [
    "import pandas as pd\n",
    "student_records = pd.read_csv(\"student_records.csv\")\n",
    "student_records_df = pd.DataFrame(student_records)\n",
    "student_records_df.head(10)"
   ]
  },
  {
   "cell_type": "markdown",
   "metadata": {},
   "source": [
    "#### 2.b: Print out the total credits and calculte CPI of each student. \n",
    "CPI is the weighted average of core courses, and electives (weights being the letter grades converted to number AP,AA=10, AB=9, BB=8, BC=7, CC=6)"
   ]
  },
  {
   "cell_type": "code",
   "execution_count": 30,
   "metadata": {},
   "outputs": [
    {
     "name": "stdout",
     "output_type": "stream",
     "text": [
      "Roll number: 124663, CPI: 8.23\n",
      "Roll number: 138296, CPI: 7.991228070175438\n",
      "Roll number: 143142, CPI: 8.562962962962963\n",
      "Roll number: 143856, CPI: 8.491803278688524\n",
      "Roll number: 144528, CPI: 8.571428571428571\n",
      "Roll number: 145372, CPI: 7.428571428571429\n",
      "Roll number: 150503, CPI: 8.433823529411764\n",
      "Roll number: 159438, CPI: 8.432692307692308\n",
      "Roll number: 180828, CPI: 7.9035087719298245\n",
      "Roll number: 194063, CPI: 7.951456310679611\n",
      "Roll number: 199713, CPI: 7.980952380952381\n",
      "Roll number: 203200, CPI: 8.64516129032258\n",
      "Roll number: 207443, CPI: 8.18918918918919\n",
      "Roll number: 208100, CPI: 8.731481481481481\n",
      "Roll number: 214270, CPI: 7.507936507936508\n",
      "Roll number: 265922, CPI: 8.245398773006135\n",
      "Roll number: 270007, CPI: 7.75\n",
      "Roll number: 282482, CPI: 7.876923076923077\n",
      "Roll number: 283796, CPI: 8.87719298245614\n",
      "Roll number: 294697, CPI: 8.491329479768787\n",
      "Roll number: 301135, CPI: 8.323232323232324\n",
      "Roll number: 310604, CPI: 8.217391304347826\n",
      "Roll number: 327122, CPI: 8.236842105263158\n",
      "Roll number: 329535, CPI: 8.260416666666666\n",
      "Roll number: 344265, CPI: 8.9\n",
      "Roll number: 358405, CPI: 8.208333333333334\n",
      "Roll number: 362471, CPI: 8.11111111111111\n",
      "Roll number: 364146, CPI: 8.76595744680851\n",
      "Roll number: 379479, CPI: 8.167741935483871\n",
      "Roll number: 381227, CPI: 8.042735042735043\n",
      "Roll number: 381526, CPI: 7.941860465116279\n",
      "Roll number: 388969, CPI: 8.4\n",
      "Roll number: 391848, CPI: 8.35064935064935\n",
      "Roll number: 458200, CPI: 8.72072072072072\n",
      "Roll number: 461584, CPI: 8.476190476190476\n",
      "Roll number: 461971, CPI: 8.390532544378699\n",
      "Roll number: 465496, CPI: 8.353658536585366\n",
      "Roll number: 478606, CPI: 8.688741721854305\n",
      "Roll number: 482623, CPI: 8.520325203252032\n",
      "Roll number: 485484, CPI: 8.659090909090908\n",
      "Roll number: 488661, CPI: 8.450980392156863\n",
      "Roll number: 500658, CPI: 8.1171875\n",
      "Roll number: 517837, CPI: 8.326732673267326\n",
      "Roll number: 521087, CPI: 7.597701149425287\n",
      "Roll number: 534763, CPI: 7.841584158415841\n",
      "Roll number: 571782, CPI: 8.21505376344086\n",
      "Roll number: 572815, CPI: 8.586538461538462\n",
      "Roll number: 581065, CPI: 8.069767441860465\n",
      "Roll number: 581858, CPI: 7.815068493150685\n",
      "Roll number: 582912, CPI: 9.275229357798166\n",
      "Roll number: 588946, CPI: 8.669565217391304\n",
      "Roll number: 589528, CPI: 8.541666666666666\n",
      "Roll number: 597353, CPI: 8.077922077922079\n",
      "Roll number: 608522, CPI: 8.784313725490197\n",
      "Roll number: 608952, CPI: 8.314102564102564\n",
      "Roll number: 613401, CPI: 8.252173913043478\n",
      "Roll number: 626000, CPI: 8.318840579710145\n",
      "Roll number: 628849, CPI: 9.114942528735632\n",
      "Roll number: 630568, CPI: 8.421052631578947\n",
      "Roll number: 680096, CPI: 8.352941176470589\n",
      "Roll number: 681499, CPI: 8.25\n",
      "Roll number: 692318, CPI: 8.08843537414966\n",
      "Roll number: 703403, CPI: 8.518518518518519\n",
      "Roll number: 716985, CPI: 7.741071428571429\n",
      "Roll number: 718510, CPI: 8.703389830508474\n",
      "Roll number: 721490, CPI: 8.352941176470589\n",
      "Roll number: 733782, CPI: 8.636363636363637\n",
      "Roll number: 750259, CPI: 8.314516129032258\n",
      "Roll number: 773982, CPI: 7.784172661870503\n",
      "Roll number: 775967, CPI: 8.777777777777779\n",
      "Roll number: 781075, CPI: 8.470238095238095\n",
      "Roll number: 782129, CPI: 8.618556701030927\n",
      "Roll number: 787967, CPI: 8.766666666666667\n",
      "Roll number: 788020, CPI: 8.088888888888889\n",
      "Roll number: 810863, CPI: 8.055555555555555\n",
      "Roll number: 816041, CPI: 7.788888888888889\n",
      "Roll number: 834515, CPI: 8.102739726027398\n",
      "Roll number: 836431, CPI: 7.653846153846154\n",
      "Roll number: 836881, CPI: 7.922413793103448\n",
      "Roll number: 841365, CPI: 8.017699115044248\n",
      "Roll number: 845623, CPI: 8.532544378698224\n",
      "Roll number: 847809, CPI: 8.27\n",
      "Roll number: 851029, CPI: 8.24561403508772\n",
      "Roll number: 870642, CPI: 8.166666666666666\n",
      "Roll number: 871746, CPI: 7.792792792792793\n",
      "Roll number: 879634, CPI: 8.724770642201834\n",
      "Roll number: 881983, CPI: 8.204081632653061\n",
      "Roll number: 888886, CPI: 8.275590551181102\n",
      "Roll number: 907454, CPI: 8.029702970297029\n",
      "Roll number: 928288, CPI: 8.850393700787402\n",
      "Roll number: 955757, CPI: 8.03076923076923\n",
      "Roll number: 960395, CPI: 8.827868852459016\n",
      "Roll number: 970791, CPI: 7.941747572815534\n",
      "Roll number: 971123, CPI: 7.5504587155963305\n",
      "Roll number: 973158, CPI: 8.378378378378379\n",
      "Roll number: 981238, CPI: 8.275\n",
      "Roll number: 986057, CPI: 7.925675675675675\n",
      "Roll number: 993835, CPI: 8.424242424242424\n",
      "Roll number: 995208, CPI: 7.590909090909091\n",
      "Roll number: 998293, CPI: 8.56\n"
     ]
    }
   ],
   "source": [
    "df = student_records_df.groupby('roll_number')\n",
    "grade_map = {\"AP\" : 10, \"AA\" : 10, \"AB\" : 9, \"BB\" : 8, \"BC\" : 7, \"CC\" : 6}\n",
    "for roll_number in df.indices:\n",
    "    sum = 0\n",
    "    credit_sum = 0\n",
    "    for row_number in df.indices[roll_number]:\n",
    "        course = student_records_df.loc[row_number]\n",
    "        if course['course_type'] == 'honours' or course['course_type'] == 'minor' or course['course_type'] == 'alc':\n",
    "            continue\n",
    "        sum += grade_map[course['grade']] * course['credit']\n",
    "        credit_sum += course['credit']\n",
    "    cpi = sum / credit_sum\n",
    "    print(f\"Roll number: {roll_number}, CPI: {cpi}\")"
   ]
  },
  {
   "cell_type": "markdown",
   "metadata": {},
   "source": [
    "#### 2.c: Print out the roll numbers of all students who meet the graduation requirements \n",
    "Atleast 20 credist of core course, 15 credits of department elective, 10 credits of flexible elective and 5 credits of hasmed electives"
   ]
  },
  {
   "cell_type": "code",
   "execution_count": 38,
   "metadata": {},
   "outputs": [
    {
     "name": "stdout",
     "output_type": "stream",
     "text": [
      "[124663, 143142, 143856, 144528, 150503, 159438, 180828, 203200, 207443, 214270, 265922, 282482, 283796, 294697, 310604, 327122, 362471, 379479, 381227, 388969, 391848, 461971, 482623, 485484, 488661, 500658, 517837, 521087, 534763, 571782, 572815, 581065, 581858, 588946, 608522, 608952, 626000, 628849, 630568, 681499, 692318, 703403, 716985, 721490, 750259, 773982, 781075, 782129, 787967, 810863, 834515, 836881, 845623, 871746, 879634, 881983, 888886, 928288, 955757, 960395, 970791, 971123, 973158, 981238, 986057, 998293]\n"
     ]
    }
   ],
   "source": [
    "graduated_list = []\n",
    "minor_completion_list = []\n",
    "honors_completion_list = []\n",
    "for roll_number in df.indices:\n",
    "    sums = {\"core\": 0, \"department_elective\": 0, \"flexible_elective\": 0, \"hasmed_elective\": 0, \"alc\" : 0, \"minor\" : 0, \"honours\" : 0}\n",
    "    for row_number in df.indices[roll_number]:\n",
    "        course = student_records_df.loc[row_number]\n",
    "        sums[course['course_type']] += course['credit']\n",
    "    if sums['core'] >= 20 and sums['department_elective'] >= 15 and sums['flexible_elective'] >= 10 and sums['hasmed_elective'] >= 5:\n",
    "        graduated_list.append(roll_number)\n",
    "    if sums['core'] >= 20 and sums['honours'] >= 10:\n",
    "        honors_completion_list.append(roll_number)\n",
    "print(graduated_list)"
   ]
  },
  {
   "cell_type": "markdown",
   "metadata": {},
   "source": [
    "#### 2.d: Print out the roll numbers of all students who completed a minor \n",
    "Atleast 10 credits with minor tag in a specific department"
   ]
  },
  {
   "cell_type": "code",
   "execution_count": 39,
   "metadata": {},
   "outputs": [
    {
     "name": "stdout",
     "output_type": "stream",
     "text": [
      "[124663, 138296, 143142, 143856, 144528, 145372, 150503, 159438, 180828, 194063, 199713, 203200, 207443, 208100, 214270, 265922, 270007, 282482, 283796, 294697, 301135, 327122, 329535, 344265, 358405, 362471, 364146, 379479, 381227, 381526, 388969, 391848, 458200, 461584, 461971, 465496, 478606, 482623, 485484, 488661, 500658, 517837, 521087, 534763, 571782, 572815, 581065, 581858, 582912, 588946, 597353, 608522, 608952, 613401, 626000, 628849, 630568, 680096, 681499, 692318, 703403, 716985, 718510, 721490, 733782, 750259, 773982, 775967, 781075, 782129, 787967, 788020, 810863, 816041, 834515, 836431, 836881, 841365, 845623, 847809, 851029, 871746, 879634, 881983, 888886, 907454, 955757, 960395, 970791, 971123, 973158, 981238, 986057, 993835, 995208, 998293]\n"
     ]
    }
   ],
   "source": [
    "graduated_list = []\n",
    "minor_completion_list = []\n",
    "for roll_number in df.indices:\n",
    "    sums = {\"core\": 0, \"department_elective\": 0, \"flexible_elective\": 0, \"hasmed_elective\": 0, \"alc\" : 0, \"minor\" : 0, \"honours\" : 0}\n",
    "    minor_credits_by_department = {}\n",
    "    for row_number in df.indices[roll_number]:\n",
    "        course = student_records_df.loc[row_number]\n",
    "        course_type = course['course_type']\n",
    "        department = course['department']\n",
    "        sums[course['course_type']] += course['credit']\n",
    "        if course_type == 'minor':\n",
    "            if department not in minor_credits_by_department:\n",
    "                minor_credits_by_department[department] = 0\n",
    "            minor_credits_by_department[department] += course['credit']\n",
    "    \n",
    "    for department, minor_credits in minor_credits_by_department.items():\n",
    "        if minor_credits >= 10:\n",
    "            minor_completion_list.append(roll_number)\n",
    "            break\n",
    "\n",
    "print(minor_completion_list)"
   ]
  },
  {
   "cell_type": "markdown",
   "metadata": {},
   "source": [
    "#### 2.e: Print out the roll numbers of all students who completed a honours\n",
    "Atleast 10 credits with honours tag and 20 core credits"
   ]
  },
  {
   "cell_type": "code",
   "execution_count": 40,
   "metadata": {},
   "outputs": [
    {
     "name": "stdout",
     "output_type": "stream",
     "text": [
      "[124663, 143142, 143856, 144528, 145372, 150503, 159438, 199713, 203200, 207443, 208100, 214270, 265922, 282482, 283796, 294697, 310604, 327122, 362471, 364146, 379479, 388969, 391848, 458200, 461971, 465496, 482623, 485484, 488661, 500658, 517837, 521087, 534763, 571782, 572815, 581065, 581858, 582912, 588946, 589528, 608522, 608952, 613401, 626000, 628849, 630568, 681499, 692318, 703403, 716985, 718510, 721490, 750259, 773982, 781075, 782129, 787967, 788020, 810863, 834515, 836881, 845623, 870642, 871746, 879634, 881983, 888886, 928288, 955757, 960395, 970791, 971123, 973158, 986057, 998293]\n"
     ]
    }
   ],
   "source": [
    "print(honors_completion_list)"
   ]
  },
  {
   "cell_type": "markdown",
   "metadata": {},
   "source": [
    "# **SciPy** "
   ]
  },
  {
   "cell_type": "markdown",
   "metadata": {},
   "source": [
    "## Part A\n",
    "Minimize the function $f(x, y) = 2(x - y - 3)^2 + 4(x + 2y + 1)^4$.<br>\n",
    "With the constraints : $ x - y \\ge -3, (x + 2)^2 + (y + 1)^2 \\le 5$ <br>\n",
    "Using scipy.optimize.minimize with constraints. (Hint: Look at the examples in the official documentation)"
   ]
  },
  {
   "cell_type": "code",
   "execution_count": 41,
   "metadata": {},
   "outputs": [
    {
     "name": "stdout",
     "output_type": "stream",
     "text": [
      " message: Optimization terminated successfully\n",
      " success: True\n",
      "  status: 0\n",
      "     fun: 7.345026216977383\n",
      "       x: [ 2.349e-01 -9.285e-01]\n",
      "     nit: 9\n",
      "     jac: [-1.120e+01 -3.582e-01]\n",
      "    nfev: 31\n",
      "    njev: 9\n"
     ]
    }
   ],
   "source": [
    "import numpy as np\n",
    "from scipy.optimize import minimize\n",
    "\n",
    "def f(x1):\n",
    "    x = x1[0]\n",
    "    y = x1[1]\n",
    "    return 2 * (x-y-3)**2 + 4 * (x+2*y + 1)**4\n",
    "\n",
    "def c1(x1):\n",
    "    x = x1[0]\n",
    "    y = x1[1]\n",
    "    return x-y+3\n",
    "\n",
    "def c2(x1):\n",
    "    x = x1[0]\n",
    "    y = x1[1]\n",
    "    return 5-(x+2)**2-(y+1)**2\n",
    "\n",
    "con1 = {'type' : 'ineq', 'fun' : c1}\n",
    "con2 = {'type' : 'ineq', 'fun' : c2}\n",
    "\n",
    "x0 = [0,0]\n",
    "\n",
    "res = minimize(f, x0, method='SLSQP', constraints = [con1, con2])\n",
    "print(res)"
   ]
  },
  {
   "cell_type": "markdown",
   "metadata": {},
   "source": [
    "# Part B\n",
    "Evaluate the line integral of the function $f(x, y) = x^2 + y^4$ along the circle $ x^2 + y^2 = 3 $ anticlockwise (scalar integral, not vector). You must use scipy for integration but you may use parameterization"
   ]
  },
  {
   "cell_type": "code",
   "execution_count": 42,
   "metadata": {},
   "outputs": [
    {
     "name": "stdout",
     "output_type": "stream",
     "text": [
      "30.630528372500482 3.1043229653526794e-09\n"
     ]
    }
   ],
   "source": [
    "from scipy.integrate import quad\n",
    "\n",
    "def f(x):\n",
    "    return (3*(np.cos(x)**2) + 9*(np.sin(x))**4)\n",
    "\n",
    "I, err = quad(f, 0, 2*np.pi)\n",
    "print(I, err)"
   ]
  },
  {
   "cell_type": "markdown",
   "metadata": {},
   "source": [
    "# **Numpy**"
   ]
  },
  {
   "cell_type": "markdown",
   "metadata": {},
   "source": [
    "### Read Lisan_Al_Gaib.pdf for problem description and complete the following functions"
   ]
  },
  {
   "cell_type": "code",
   "execution_count": 34,
   "metadata": {},
   "outputs": [],
   "source": [
    "import time # to time the execution\n",
    "import numpy as np\n",
    "import matplotlib.pyplot as plt"
   ]
  },
  {
   "cell_type": "code",
   "execution_count": 35,
   "metadata": {},
   "outputs": [],
   "source": [
    "### TODO 1\n",
    "### Load data from data_path\n",
    "### Check the input file spice_locations.txt to understand the Data Format\n",
    "### Return : np array of size Nx2\n",
    "def load_data(data_path):\n",
    "    points = []\n",
    "    with open(data_path, 'r') as f:\n",
    "        for line in f.readlines():\n",
    "            x,y = line.split(',')\n",
    "            x = float(x)\n",
    "            y = float(y.removesuffix('\\n'))\n",
    "            points.append([x,y])\n",
    "        points = (np.array(points))\n",
    "    return points"
   ]
  },
  {
   "cell_type": "code",
   "execution_count": 36,
   "metadata": {},
   "outputs": [],
   "source": [
    "### TODO 2.1\n",
    "### If init_centers is None, initialize the centers by selecting K data points at random without replacement\n",
    "### Else, use the centers provided in init_centers\n",
    "### Return : np array of size Kx2\n",
    "def initialise_centers(data, K, init_centers=None):\n",
    "    if init_centers is None:\n",
    "        indices = np.random.choice(len(data), K, replace=False)\n",
    "        return data[indices]\n",
    "    else:\n",
    "        return np.array(init_centers)"
   ]
  },
  {
   "cell_type": "code",
   "execution_count": 37,
   "metadata": {},
   "outputs": [],
   "source": [
    "### TODO 2.2\n",
    "### Initialize the labels to all ones to size (N,) where N is the number of data points\n",
    "### Return : np array of size N\n",
    "\n",
    "def initialise_labels(data):\n",
    "    n = len(data)\n",
    "    return np.array([1]*n)"
   ]
  },
  {
   "cell_type": "code",
   "execution_count": 38,
   "metadata": {},
   "outputs": [],
   "source": [
    "### TODO 3.1 : E step\n",
    "### For Each data point, find the distance to each center\n",
    "### Return : np array of size NxK\n",
    "def calculate_distances(data, centers):\n",
    "    distance_array = []\n",
    "    for data_point in data:\n",
    "        distance_subarray = []\n",
    "        for center in centers:\n",
    "            dist = np.sqrt((data_point[0] - center[0])**2 + (data_point[1] - center[1])**2)\n",
    "            distance_subarray.append(dist)\n",
    "        distance_array.append(distance_subarray)\n",
    "    return np.array(distance_array)"
   ]
  },
  {
   "cell_type": "code",
   "execution_count": 39,
   "metadata": {},
   "outputs": [],
   "source": [
    "### TODO 3.2 : E step\n",
    "### For Each data point, assign the label of the nearest center\n",
    "### Return : np array of size N\n",
    "def update_labels(distances):\n",
    "    return np.argmin(distances, axis=1)"
   ]
  },
  {
   "cell_type": "code",
   "execution_count": 40,
   "metadata": {},
   "outputs": [],
   "source": [
    "### TODO 4 : M step\n",
    "### Update the centers to the mean of the data points assigned to it\n",
    "### Return : np array of size Kx2\n",
    "def update_centers(data, labels, K):\n",
    "    centers = []\n",
    "    for i in range(K):\n",
    "        points_with_i = data[labels == i]\n",
    "        if len(points_with_i) == 0:\n",
    "            centers.append(np.random.uniform(data.min(axis=0), data.max(axis=0)))\n",
    "        else:\n",
    "            centers.append(points_with_i.mean(axis=0))\n",
    "    return np.array(centers)\n"
   ]
  },
  {
   "cell_type": "code",
   "execution_count": 41,
   "metadata": {},
   "outputs": [],
   "source": [
    "### TODO 6 : Check convergence\n",
    "### Check if the labels have changed from the previous iteration\n",
    "### Return : True / False\n",
    "def check_termination(labels1, labels2):\n",
    "    return np.array_equal(labels1, labels2)"
   ]
  },
  {
   "cell_type": "code",
   "execution_count": 42,
   "metadata": {},
   "outputs": [],
   "source": [
    "### DON'T CHANGE ANYTHING IN THE FOLLOWING FUNCTION\n",
    "def kmeans(data_path:str, K:int, init_centers):\n",
    "    '''\n",
    "    Input :\n",
    "        data (type str): path to the file containing the data\n",
    "        K (type int): number of clusters\n",
    "        init_centers (type numpy.ndarray): initial centers. shape = (K, 2) or None\n",
    "    Output :\n",
    "        centers (type numpy.ndarray): final centers. shape = (K, 2)\n",
    "        labels (type numpy.ndarray): label of each data point. shape = (N,)\n",
    "        time (type float): time taken by the algorithm to converge in seconds\n",
    "    N is the number of data points each of shape (2,)\n",
    "    '''\n",
    "    data = load_data(data_path)    \n",
    "    centers = initialise_centers(data, K, init_centers)\n",
    "    labels = initialise_labels(data)\n",
    "\n",
    "    start_time = time.time() # Time stamp \n",
    "\n",
    "    while True:\n",
    "        distances = calculate_distances(data, centers)\n",
    "        labels_new = update_labels(distances)\n",
    "        centers = update_centers(data, labels_new, K)\n",
    "        if check_termination(labels, labels_new): break\n",
    "        else: labels = labels_new\n",
    " \n",
    "    end_time = time.time() # Time stamp after the algorithm ends\n",
    "    return centers, labels, end_time - start_time "
   ]
  },
  {
   "cell_type": "code",
   "execution_count": 43,
   "metadata": {},
   "outputs": [],
   "source": [
    "### TODO 7\n",
    "def visualise(data_path, labels, centers):\n",
    "    data = load_data(data_path)\n",
    "\n",
    "    # Scatter plot of the data points\n",
    "    plt.scatter(data[:, 0], data[:, 1], c=labels, s=50, cmap='viridis')\n",
    "    plt.scatter(centers[:, 0], centers[:, 1], c='black', s=200, alpha=0.5)\n",
    "\n",
    "    ### Set title as 'K-means clustering'\n",
    "    plt.gca().set_title('K-means clustering')\n",
    "\n",
    "    ### Set xlabel as 'Longitude'\n",
    "    plt.gca().set_xlabel('Longitude')\n",
    "    ### Set ylabel as 'Latitude'\n",
    "    plt.gca().set_ylabel('Latitude')\n",
    "    ### Save the plot as 'kmeans.png'\n",
    "    plt.savefig('kmeans.png')\n",
    "\n",
    "    ## DO NOT CHANGE THE FOLLOWING LINE\n",
    "    return plt"
   ]
  },
  {
   "cell_type": "code",
   "execution_count": 45,
   "metadata": {},
   "outputs": [
    {
     "name": "stdout",
     "output_type": "stream",
     "text": [
      "Time taken for the algorithm to converge: 0.004442930221557617\n"
     ]
    },
    {
     "data": {
      "text/plain": [
       "<module 'matplotlib.pyplot' from 'C:\\\\Users\\\\pravm\\\\AppData\\\\Local\\\\Packages\\\\PythonSoftwareFoundation.Python.3.11_qbz5n2kfra8p0\\\\LocalCache\\\\local-packages\\\\Python311\\\\site-packages\\\\matplotlib\\\\pyplot.py'>"
      ]
     },
     "execution_count": 45,
     "metadata": {},
     "output_type": "execute_result"
    },
    {
     "data": {
      "image/png": "[encoded data removed]",
      "text/plain": [
       "<Figure size 640x480 with 1 Axes>"
      ]
     },
     "metadata": {},
     "output_type": "display_data"
    }
   ],
   "source": [
    "### After you have completed the above functions, run the following code to generate the plot\n",
    "data_path = 'spice_locations.txt'\n",
    "K, init_centers = 2, None\n",
    "centers, labels, time_taken = kmeans(data_path, K, init_centers)\n",
    "print('Time taken for the algorithm to converge:', time_taken)\n",
    "visualise(data_path, labels, centers)"
   ]
  }
 ],
 "metadata": {
  "kernelspec": {
   "display_name": "Python 3",
   "language": "python",
   "name": "python3"
  },
  "language_info": {
   "codemirror_mode": {
    "name": "ipython",
    "version": 3
   },
   "file_extension": ".py",
   "mimetype": "text/x-python",
   "name": "python",
   "nbconvert_exporter": "python",
   "pygments_lexer": "ipython3",
   "version": "3.11.9"
  }
 },
 "nbformat": 4,
 "nbformat_minor": 2
}
